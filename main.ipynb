{
 "cells": [
  {
   "cell_type": "code",
   "execution_count": 1,
   "metadata": {
    "iooxa": {
     "id": {
      "block": "SN1jQ6BDYXyCeJWOHW5N",
      "project": "pYq3tTY66ZSR0P222zpE",
      "version": 1
     },
     "outputId": null
    }
   },
   "outputs": [
    {
     "data": {
      "text/plain": [
       "<matplotlib.axes._subplots.AxesSubplot at 0x7fb9d9c17f50>"
      ]
     },
     "execution_count": 1,
     "metadata": {},
     "output_type": "execute_result"
    },
    {
     "data": {
      "image/png": "[encoded data removed]",
      "text/plain": [
       "<Figure size 432x288 with 1 Axes>"
      ]
     },
     "metadata": {
      "needs_background": "light"
     },
     "output_type": "display_data"
    }
   ],
   "source": [
    "import pandas as pd\n",
    "import matplotlib.pyplot as plt\n",
    "import numpy as np\n",
    "import seaborn as sns\n",
    "from sklearn import *\n",
    "\n",
    "url = \"https://gist.githubusercontent.com/seankross/a412dfbd88b3db70b74b/raw/5f23f993cd87c283ce766e7ac6b329ee7cc2e1d1/mtcars.csv\"\n",
    "cardf = pd.read_csv(url)\n",
    "\n",
    "cardf.head(3)\n",
    "\n",
    "sns.scatterplot(wt, mpg, data=cardf)\n",
    "plt.title(\"Milage vs weight\")\n",
    "plt.xlabel(\"Weight\")\n",
    "plt.ylabel(\"Milage\")"
   ]
  },
  {
   "cell_type": "markdown",
   "metadata": {},
   "source": [
    "---\n",
    "title: This is a paper\n",
    "author: Arin\n",
    "bibliography:biblio.bib\n",
    "---\n",
    "\n",
    "## Abstract\n",
    "\n",
    "The goal of this paper is to predict milage with wt\n",
    "\n",
    "## Introduction\n",
    "X has written on predictive models [@zhao2021]. \n",
    "\n",
    "| X | Y |\n",
    "|---|---|\n",
    "| A | B |\n",
    "\n",
    "## References"
   ]
  }
 ],
 "metadata": {
  "iooxa": {
   "id": {
    "block": "hWmL2NFVU5Q8zURcyA1f",
    "project": "pYq3tTY66ZSR0P222zpE",
    "version": 23
   }
  },
  "kernelspec": {
   "display_name": "Python 3",
   "language": "python",
   "name": "python3"
  },
  "language_info": {
   "codemirror_mode": {
    "name": "ipython",
    "version": 3
   },
   "file_extension": ".py",
   "mimetype": "text/x-python",
   "name": "python",
   "nbconvert_exporter": "python",
   "pygments_lexer": "ipython3",
   "version": "3.7.6"
  }
 },
 "nbformat": 4,
 "nbformat_minor": 4
}
